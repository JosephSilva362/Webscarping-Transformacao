{
  "nbformat": 4,
  "nbformat_minor": 0,
  "metadata": {
    "colab": {
      "name": "Teste.ipynb",
      "provenance": [],
      "include_colab_link": true
    },
    "kernelspec": {
      "name": "python3",
      "display_name": "Python 3"
    },
    "language_info": {
      "name": "python"
    }
  },
  "cells": [
    {
      "cell_type": "markdown",
      "metadata": {
        "id": "view-in-github",
        "colab_type": "text"
      },
      "source": [
        "<a href=\"https://colab.research.google.com/github/JosephSilva362/Webscarping-Transformacao/blob/main/Teste_joseph_cunha.ipynb\" target=\"_parent\"><img src=\"https://colab.research.google.com/assets/colab-badge.svg\" alt=\"Open In Colab\"/></a>"
      ]
    },
    {
      "cell_type": "code",
      "metadata": {
        "id": "9-hEkBCRU2Y4"
      },
      "source": [
        "#Instalar a biblioteca Tabula"
      ],
      "execution_count": null,
      "outputs": []
    },
    {
      "cell_type": "code",
      "metadata": {
        "id": "Q5kNoylhI5jI"
      },
      "source": [
        "pip install tabula-py"
      ],
      "execution_count": null,
      "outputs": []
    },
    {
      "cell_type": "code",
      "metadata": {
        "id": "a_uCLex3VxLX"
      },
      "source": [
        "#Import das bibliotecas necessárias"
      ],
      "execution_count": null,
      "outputs": []
    },
    {
      "cell_type": "code",
      "metadata": {
        "id": "iDICcW2eLYCW"
      },
      "source": [
        "import requests\n",
        "from bs4 import BeautifulSoup as bs\n",
        "import tabula\n",
        "import pandas as pd\n",
        "from zipfile import ZipFile\n"
      ],
      "execution_count": null,
      "outputs": []
    },
    {
      "cell_type": "markdown",
      "source": [
        "## Teste 1 - WebScraping"
      ],
      "metadata": {
        "id": "ziDHjDMnKOgz"
      }
    },
    {
      "cell_type": "code",
      "source": [
        "#Função para baixar o arquivo\n",
        "def download_file(url, filename):\n",
        "    file_link = requests.get(url, stream=True)\n",
        "    if file_link.status_code == requests.codes.OK:\n",
        "        with open(filename, 'wb') as nf:\n",
        "            for chunk in file_link.iter_content(chunk_size=256):\n",
        "                nf.write(chunk)\n",
        "        print(\"Download finalizado\")\n",
        "    else:\n",
        "        file_link.raise_for_status()\n",
        "\n",
        "#Função para encontrar o arquivo\n",
        "def find_file(url):\n",
        "    #Guardar o HTML em um arquivo bs4\n",
        "    soup = bs(requests.get(url).content, 'html.parser')\n",
        "    #Encontrar o link para a página de download do arquivo mais recente\n",
        "    download_page = soup.find('a', attrs={'class':'alert-link internal-link'})['href']\n",
        "    #Guarda o HTML da página de download\n",
        "    soup = bs(requests.get(download_page).content, 'html.parser')\n",
        "    #Encontra o link para baixar o arquivo\n",
        "    download_link = soup.find('table').find('a')['href']\n",
        "    #O nome do arquivo pode ser encontrado na ultima parte da url\n",
        "    filename = download_link.split('/')[-1]\n",
        "    #Chamar a função de download\n",
        "    download_file(download_link, filename)\n",
        "\n",
        "#main\n",
        "if __name__ == \"__main__\":\n",
        "    URL = 'https://www.gov.br/ans/pt-br/assuntos/prestadores/padrao-para-troca-de-informacao-de-saude-suplementar-2013-tiss'\n",
        "    find_file(URL)"
      ],
      "metadata": {
        "colab": {
          "base_uri": "https://localhost:8080/"
        },
        "id": "ksDhbKMPLYJ9",
        "outputId": "1e386c31-8314-47be-eaa8-ced190f8f8e4"
      },
      "execution_count": null,
      "outputs": [
        {
          "output_type": "stream",
          "name": "stdout",
          "text": [
            "Download finalizado\n"
          ]
        }
      ]
    },
    {
      "cell_type": "markdown",
      "source": [
        "## Teste 2 - Transformação de dados"
      ],
      "metadata": {
        "id": "IB9ikV7yKW57"
      }
    },
    {
      "cell_type": "code",
      "metadata": {
        "id": "ecFeTjk8c8Jg"
      },
      "source": [
        "#Ler o pdf"
      ],
      "execution_count": null,
      "outputs": []
    },
    {
      "cell_type": "code",
      "metadata": {
        "id": "QOuC5gu7c7x5"
      },
      "source": [
        "pdf = 'padrao-tiss_componente-organizacional_202111.pdf'"
      ],
      "execution_count": null,
      "outputs": []
    },
    {
      "cell_type": "markdown",
      "metadata": {
        "id": "-QZKCU5Fch_A"
      },
      "source": [
        "###Construindo a tabela do quadro 30"
      ]
    },
    {
      "cell_type": "code",
      "metadata": {
        "id": "CjAGgI6McASP"
      },
      "source": [
        "#Extrair o quadro 30"
      ],
      "execution_count": null,
      "outputs": []
    },
    {
      "cell_type": "code",
      "metadata": {
        "id": "yYKephj0JM7l"
      },
      "source": [
        "quadro30 = tabula.read_pdf(pdf, pages='114')\n",
        "tabela = quadro30[0]"
      ],
      "execution_count": null,
      "outputs": []
    },
    {
      "cell_type": "code",
      "metadata": {
        "id": "CNAEhUrKMQLE"
      },
      "source": [
        "display(tabela)"
      ],
      "execution_count": null,
      "outputs": []
    },
    {
      "cell_type": "code",
      "metadata": {
        "id": "QtzXaGrKWgW3"
      },
      "source": [
        "#Separar a coluna \"Tabela de Tipo do Demandante\" em duas: \"Código\" e \"Descrição da categoria\""
      ],
      "execution_count": null,
      "outputs": []
    },
    {
      "cell_type": "code",
      "metadata": {
        "id": "kqoOpXGghANa"
      },
      "source": [
        "tabela[[\"Código\", \"Descrição da categoria\"]] = tabela[\"Tabela de Tipo do Demandante\"].str.split(\" \", 1, expand=True)\n"
      ],
      "execution_count": null,
      "outputs": []
    },
    {
      "cell_type": "code",
      "metadata": {
        "id": "qHO8YMj1XXZ4"
      },
      "source": [
        "#Excluir a coluna \"Tabela de Tipo do Demandante\""
      ],
      "execution_count": null,
      "outputs": []
    },
    {
      "cell_type": "code",
      "metadata": {
        "id": "o-rbGWg3wboT"
      },
      "source": [
        "tabela.drop(['Tabela de Tipo do Demandante'],axis=1,inplace=True)"
      ],
      "execution_count": null,
      "outputs": []
    },
    {
      "cell_type": "code",
      "metadata": {
        "id": "epub9aYKYQqI"
      },
      "source": [
        "#Excluir a linha excedente "
      ],
      "execution_count": null,
      "outputs": []
    },
    {
      "cell_type": "code",
      "metadata": {
        "id": "9uNxHedCXQxI"
      },
      "source": [
        "tabela.drop(0,inplace=True)"
      ],
      "execution_count": null,
      "outputs": []
    },
    {
      "cell_type": "code",
      "metadata": {
        "id": "uYrC7_ekYfg-"
      },
      "source": [
        "#Definir a coluna \"Código\" como o index"
      ],
      "execution_count": null,
      "outputs": []
    },
    {
      "cell_type": "code",
      "metadata": {
        "id": "efwuHG4oXRZ3"
      },
      "source": [
        "tabela.set_index(\"Código\",inplace=True)"
      ],
      "execution_count": null,
      "outputs": []
    },
    {
      "cell_type": "code",
      "source": [
        "#Salva o dataframe como um arquivo csv"
      ],
      "metadata": {
        "id": "Of8g3ggGMH29"
      },
      "execution_count": null,
      "outputs": []
    },
    {
      "cell_type": "code",
      "metadata": {
        "id": "GmqduznLw9aD"
      },
      "source": [
        "tabela.to_csv('quadro30.csv',sep=\",\", encoding='utf-8-sig')"
      ],
      "execution_count": null,
      "outputs": []
    },
    {
      "cell_type": "markdown",
      "metadata": {
        "id": "GupExTPObZnX"
      },
      "source": [
        "###Construindo a tabela do quadro 31"
      ]
    },
    {
      "cell_type": "code",
      "source": [
        "#Extrair o quadro 31"
      ],
      "metadata": {
        "id": "pBjxXHa9OiUp"
      },
      "execution_count": null,
      "outputs": []
    },
    {
      "cell_type": "code",
      "metadata": {
        "id": "bTxYQfbmbmoG"
      },
      "source": [
        "quadro31 = tabula.read_pdf(pdf, pages=[i for i in range(115,121)], pandas_options={'header':None})"
      ],
      "execution_count": null,
      "outputs": []
    },
    {
      "cell_type": "code",
      "metadata": {
        "id": "Vd2Ou5YjuwWb"
      },
      "source": [
        "for i in quadro31:\n",
        "  display(i)"
      ],
      "execution_count": null,
      "outputs": []
    },
    {
      "cell_type": "code",
      "source": [
        "#Excluir a ultima tabela"
      ],
      "metadata": {
        "id": "gxF76tT1OzV5"
      },
      "execution_count": null,
      "outputs": []
    },
    {
      "cell_type": "code",
      "source": [
        "quadro31.pop(-1)"
      ],
      "metadata": {
        "id": "d_nANNRaOy0J"
      },
      "execution_count": null,
      "outputs": []
    },
    {
      "cell_type": "code",
      "source": [
        "#Criar um dataframe para receber o quadro 31 que está dividido"
      ],
      "metadata": {
        "id": "LQx7vovZPHGp"
      },
      "execution_count": null,
      "outputs": []
    },
    {
      "cell_type": "code",
      "metadata": {
        "id": "3896PCcqtgLT"
      },
      "source": [
        "tabela = pd.DataFrame([])"
      ],
      "execution_count": null,
      "outputs": []
    },
    {
      "cell_type": "code",
      "source": [
        "#Juntar o quadro 31 em um dataframe"
      ],
      "metadata": {
        "id": "75AQaHF2PQbB"
      },
      "execution_count": null,
      "outputs": []
    },
    {
      "cell_type": "code",
      "metadata": {
        "id": "jlrsOiGLthfr"
      },
      "source": [
        "for df in quadro31:\n",
        "  tabela = pd.concat([tabela,df])"
      ],
      "execution_count": null,
      "outputs": []
    },
    {
      "cell_type": "code",
      "source": [
        "#Excluir as linhas excedentes"
      ],
      "metadata": {
        "id": "mUD5AFeCPWWI"
      },
      "execution_count": null,
      "outputs": []
    },
    {
      "cell_type": "code",
      "source": [
        "tabela.drop([0,1],inplace=True)"
      ],
      "metadata": {
        "id": "p02L694hxVV-"
      },
      "execution_count": null,
      "outputs": []
    },
    {
      "cell_type": "code",
      "source": [
        "#definir o cabeçalho"
      ],
      "metadata": {
        "id": "VDb_XzrZPa9H"
      },
      "execution_count": null,
      "outputs": []
    },
    {
      "cell_type": "code",
      "source": [
        "tabela.columns = ['Código','Descrição da categoria']"
      ],
      "metadata": {
        "id": "VvV-pC3TxVlW"
      },
      "execution_count": null,
      "outputs": []
    },
    {
      "cell_type": "code",
      "source": [
        "#definir a coluna \"Código\" como o Index"
      ],
      "metadata": {
        "id": "Y9NArMboPy0g"
      },
      "execution_count": null,
      "outputs": []
    },
    {
      "cell_type": "code",
      "metadata": {
        "id": "yrLlN_YMtiXz"
      },
      "source": [
        "tabela.set_index(\"Código\",inplace=True)"
      ],
      "execution_count": null,
      "outputs": []
    },
    {
      "cell_type": "code",
      "metadata": {
        "id": "UY7BbdedtkKq"
      },
      "source": [
        "display(tabela)"
      ],
      "execution_count": null,
      "outputs": []
    },
    {
      "cell_type": "code",
      "source": [
        "#Resolve o problema de quebra de linha"
      ],
      "metadata": {
        "id": "enO2-T0-NXCS"
      },
      "execution_count": null,
      "outputs": []
    },
    {
      "cell_type": "code",
      "source": [
        "tabela['Descrição da categoria'].replace('\\r', ' ', regex=True, inplace=True)"
      ],
      "metadata": {
        "id": "ImGQqqAJK0su"
      },
      "execution_count": null,
      "outputs": []
    },
    {
      "cell_type": "code",
      "source": [
        "#Salva o arquivo como csv"
      ],
      "metadata": {
        "id": "WaNudxKOMEjL"
      },
      "execution_count": null,
      "outputs": []
    },
    {
      "cell_type": "code",
      "metadata": {
        "id": "ci20Pj_Etm-V"
      },
      "source": [
        "tabela.to_csv('quadro31.csv',sep=\",\", encoding='utf-8-sig')"
      ],
      "execution_count": null,
      "outputs": []
    },
    {
      "cell_type": "markdown",
      "source": [
        "###Construindo a tabela do Quadro 32"
      ],
      "metadata": {
        "id": "qHghYTLmZMVY"
      }
    },
    {
      "cell_type": "code",
      "source": [
        "#Extrair o quadro 32"
      ],
      "metadata": {
        "id": "UehZSmtjQesp"
      },
      "execution_count": null,
      "outputs": []
    },
    {
      "cell_type": "code",
      "source": [
        "quadro32 = tabula.read_pdf(pdf, pages='120')\n",
        "tabela = quadro32[1]"
      ],
      "metadata": {
        "id": "IXQ-iI5vZUU4"
      },
      "execution_count": null,
      "outputs": []
    },
    {
      "cell_type": "code",
      "source": [
        "display(tabela)"
      ],
      "metadata": {
        "id": "cu74ca1HZdPI"
      },
      "execution_count": null,
      "outputs": []
    },
    {
      "cell_type": "code",
      "source": [
        "#Separar a coluna \"Tabela de Tipo de Solicitação\" em duas colunas \"Código\" e \"Descrição da categoria\""
      ],
      "metadata": {
        "id": "by7sIdYCMWHJ"
      },
      "execution_count": null,
      "outputs": []
    },
    {
      "cell_type": "code",
      "source": [
        "tabela[[\"Código\", \"Descrição da categoria\"]] = tabela[\"Tabela de Tipo de Solicitação\"].str.split(\" \", 1, expand=True)"
      ],
      "metadata": {
        "id": "sD871OJ7a35p"
      },
      "execution_count": null,
      "outputs": []
    },
    {
      "cell_type": "code",
      "source": [
        "#Excluir a coluna e as linhas excedentes"
      ],
      "metadata": {
        "id": "2tBTbVkcLwaB"
      },
      "execution_count": null,
      "outputs": []
    },
    {
      "cell_type": "code",
      "source": [
        "tabela.drop(['Tabela de Tipo de Solicitação'],axis=1,inplace=True)"
      ],
      "metadata": {
        "id": "u7vNNRIbbDMY"
      },
      "execution_count": null,
      "outputs": []
    },
    {
      "cell_type": "code",
      "source": [
        "tabela.drop([0,1, 4], inplace=True)"
      ],
      "metadata": {
        "id": "XtnPfWTgbaD5"
      },
      "execution_count": null,
      "outputs": []
    },
    {
      "cell_type": "code",
      "source": [
        "#Definir a coluna \"Código\" como o index"
      ],
      "metadata": {
        "id": "6oY8qKMgL58B"
      },
      "execution_count": null,
      "outputs": []
    },
    {
      "cell_type": "code",
      "source": [
        "tabela.set_index(\"Código\",inplace=True)"
      ],
      "metadata": {
        "id": "tKwK8nZ1ddgy"
      },
      "execution_count": null,
      "outputs": []
    },
    {
      "cell_type": "code",
      "source": [
        "#Salva o arquivo como csv"
      ],
      "metadata": {
        "id": "NowDn7lsMANi"
      },
      "execution_count": null,
      "outputs": []
    },
    {
      "cell_type": "code",
      "source": [
        "tabela.to_csv('quadro32.csv',sep=\",\", encoding='utf-8-sig')"
      ],
      "metadata": {
        "id": "XDAgQTLK5lMN"
      },
      "execution_count": null,
      "outputs": []
    },
    {
      "cell_type": "markdown",
      "source": [
        "###Comprimindo todos os CSVs em um arquivo .zip"
      ],
      "metadata": {
        "id": "a1bu-7Hq_tue"
      }
    },
    {
      "cell_type": "code",
      "source": [
        "with ZipFile('Teste_Joseph_Silva_da_Cunha.zip','w') as my_zip:\n",
        "    my_zip.write('quadro30.csv')\n",
        "    my_zip.write('quadro31.csv')\n",
        "    my_zip.write('quadro32.csv')\n",
        "    my_zip.close()"
      ],
      "metadata": {
        "id": "I39V8aDk_tZ_"
      },
      "execution_count": null,
      "outputs": []
    }
  ]
}